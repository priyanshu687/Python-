{
  "nbformat": 4,
  "nbformat_minor": 0,
  "metadata": {
    "colab": {
      "provenance": [],
      "authorship_tag": "ABX9TyMOglCPIs4i7mzcO5iGQUVJ",
      "include_colab_link": true
    },
    "kernelspec": {
      "name": "python3",
      "display_name": "Python 3"
    },
    "language_info": {
      "name": "python"
    }
  },
  "cells": [
    {
      "cell_type": "markdown",
      "metadata": {
        "id": "view-in-github",
        "colab_type": "text"
      },
      "source": [
        "<a href=\"https://colab.research.google.com/github/priyanshu687/Python-/blob/main/Python_code.ipynb\" target=\"_parent\"><img src=\"https://colab.research.google.com/assets/colab-badge.svg\" alt=\"Open In Colab\"/></a>"
      ]
    },
    {
      "cell_type": "code",
      "execution_count": 1,
      "metadata": {
        "colab": {
          "base_uri": "https://localhost:8080/"
        },
        "id": "2mYdvItQdAYC",
        "outputId": "6bcff0f7-1ec7-4d8e-fb9c-bd6711f2452d"
      },
      "outputs": [
        {
          "output_type": "stream",
          "name": "stdout",
          "text": [
            "Hello World\n"
          ]
        }
      ],
      "source": [
        "print(\"Hello World\") # function"
      ]
    },
    {
      "cell_type": "code",
      "source": [
        "x = 'String A'\n",
        "var2 = \"Another variable\"\n",
        "\n",
        "print(x)\n",
        "print(var2)"
      ],
      "metadata": {
        "colab": {
          "base_uri": "https://localhost:8080/"
        },
        "id": "R2BuOXNYdbkR",
        "outputId": "8ac4c2c5-ac4c-411c-ebac-13a6b88fe738"
      },
      "execution_count": 2,
      "outputs": [
        {
          "output_type": "stream",
          "name": "stdout",
          "text": [
            "String A\n",
            "Another variable\n"
          ]
        }
      ]
    },
    {
      "cell_type": "code",
      "source": [
        "print(type(x))"
      ],
      "metadata": {
        "colab": {
          "base_uri": "https://localhost:8080/"
        },
        "id": "3q1hyKTMdyuK",
        "outputId": "1be9faa3-f0ce-41c9-e6b9-cbcf68a21bf5"
      },
      "execution_count": 3,
      "outputs": [
        {
          "output_type": "stream",
          "name": "stdout",
          "text": [
            "<class 'str'>\n"
          ]
        }
      ]
    },
    {
      "cell_type": "code",
      "source": [
        "print(var2)\n",
        "print(len(var2))"
      ],
      "metadata": {
        "colab": {
          "base_uri": "https://localhost:8080/"
        },
        "id": "2oUpzmmpeBAn",
        "outputId": "27e7344e-e840-40df-bf32-65a4a0ff423a"
      },
      "execution_count": 4,
      "outputs": [
        {
          "output_type": "stream",
          "name": "stdout",
          "text": [
            "Another variable\n",
            "16\n"
          ]
        }
      ]
    },
    {
      "cell_type": "markdown",
      "source": [
        "STRING CONCATENATION\n"
      ],
      "metadata": {
        "id": "EpTrfFeXfVj4"
      }
    },
    {
      "cell_type": "code",
      "source": [
        "2+3"
      ],
      "metadata": {
        "colab": {
          "base_uri": "https://localhost:8080/"
        },
        "id": "_NRC8Tufelet",
        "outputId": "a9bce1b1-acfa-4481-812e-c668e3fe2577"
      },
      "execution_count": 5,
      "outputs": [
        {
          "output_type": "execute_result",
          "data": {
            "text/plain": [
              "5"
            ]
          },
          "metadata": {},
          "execution_count": 5
        }
      ]
    },
    {
      "cell_type": "code",
      "source": [
        "VAR1 = \"HELLO\"\n",
        "VAR2 = \"WORLD\"\n",
        "print(VAR1+' '+VAR2)"
      ],
      "metadata": {
        "colab": {
          "base_uri": "https://localhost:8080/"
        },
        "id": "5-slUmG7feQq",
        "outputId": "b23b5f01-ee77-4103-fc8f-8413763da29b"
      },
      "execution_count": 12,
      "outputs": [
        {
          "output_type": "stream",
          "name": "stdout",
          "text": [
            "HELLO WORLD\n"
          ]
        }
      ]
    },
    {
      "cell_type": "code",
      "source": [
        "var3 = VAR1*3\n",
        "print(var3)"
      ],
      "metadata": {
        "colab": {
          "base_uri": "https://localhost:8080/"
        },
        "id": "vWOv16uPgG64",
        "outputId": "b98a932e-23cf-4acb-c607-2cb3284f1304"
      },
      "execution_count": 14,
      "outputs": [
        {
          "output_type": "stream",
          "name": "stdout",
          "text": [
            "HELLOHELLOHELLO\n"
          ]
        }
      ]
    },
    {
      "cell_type": "markdown",
      "source": [
        "Slice of a String\n"
      ],
      "metadata": {
        "id": "8UFv2f61gdGj"
      }
    },
    {
      "cell_type": "code",
      "source": [
        "var4 = \"ABCDEFG\"\n",
        "print(var4)\n",
        "print(var4[1:5])\n"
      ],
      "metadata": {
        "colab": {
          "base_uri": "https://localhost:8080/"
        },
        "id": "4zD37_jNgceo",
        "outputId": "5fa246e0-c654-40e1-e334-fe3d5ec377db"
      },
      "execution_count": 15,
      "outputs": [
        {
          "output_type": "stream",
          "name": "stdout",
          "text": [
            "ABCDEFG\n",
            "BCDE\n"
          ]
        }
      ]
    },
    {
      "cell_type": "code",
      "source": [
        "var3[3:]"
      ],
      "metadata": {
        "colab": {
          "base_uri": "https://localhost:8080/",
          "height": 36
        },
        "id": "29Ovivi0g5Dn",
        "outputId": "ae4ffa60-e524-40a8-d3a6-a882b86c6171"
      },
      "execution_count": 16,
      "outputs": [
        {
          "output_type": "execute_result",
          "data": {
            "text/plain": [
              "'LOHELLOHELLO'"
            ],
            "application/vnd.google.colaboratory.intrinsic+json": {
              "type": "string"
            }
          },
          "metadata": {},
          "execution_count": 16
        }
      ]
    },
    {
      "cell_type": "code",
      "source": [
        "# Exercise of output HHH\n",
        "Var5 = \"HelloHelloHello\"\n",
        "print(Var5[0::5])"
      ],
      "metadata": {
        "colab": {
          "base_uri": "https://localhost:8080/"
        },
        "id": "0tTANg_Dhh5R",
        "outputId": "dab072f7-c686-408a-9dcb-7597696029ef"
      },
      "execution_count": 19,
      "outputs": [
        {
          "output_type": "stream",
          "name": "stdout",
          "text": [
            "HHH\n"
          ]
        }
      ]
    },
    {
      "cell_type": "code",
      "source": [
        "# stirng comparison\n",
        "print(var4 == Var5)"
      ],
      "metadata": {
        "colab": {
          "base_uri": "https://localhost:8080/"
        },
        "id": "1m6aHX-8iNP1",
        "outputId": "be5e58d1-253e-4735-a7fc-f11967c104d7"
      },
      "execution_count": 22,
      "outputs": [
        {
          "output_type": "stream",
          "name": "stdout",
          "text": [
            "False\n"
          ]
        }
      ]
    },
    {
      "cell_type": "markdown",
      "source": [
        "strings are immutable\n"
      ],
      "metadata": {
        "id": "vFvpF8VOimoG"
      }
    },
    {
      "cell_type": "code",
      "source": [
        "var6 = \"hello\"\n",
        "print(var6)\n",
        "var6 = \"why\"\n",
        "print(var6)"
      ],
      "metadata": {
        "colab": {
          "base_uri": "https://localhost:8080/"
        },
        "id": "nDlk0Cjxibck",
        "outputId": "673b805e-5387-40d9-fcf9-6a501485cf72"
      },
      "execution_count": 24,
      "outputs": [
        {
          "output_type": "stream",
          "name": "stdout",
          "text": [
            "hello\n",
            "why\n"
          ]
        }
      ]
    },
    {
      "cell_type": "markdown",
      "source": [
        "We can reasigned it but can not change directly."
      ],
      "metadata": {
        "id": "pgY3urP7jFml"
      }
    },
    {
      "cell_type": "code",
      "source": [
        "s1 = \"This is a Sentence\"\n",
        "words1 = s1.split()\n",
        "print(words1)"
      ],
      "metadata": {
        "colab": {
          "base_uri": "https://localhost:8080/"
        },
        "id": "khu90aEajCxx",
        "outputId": "09c7f1e5-71fb-421e-a3a1-95244e52c8e6"
      },
      "execution_count": 25,
      "outputs": [
        {
          "output_type": "stream",
          "name": "stdout",
          "text": [
            "['This', 'is', 'a', 'Sentence']\n"
          ]
        }
      ]
    },
    {
      "cell_type": "code",
      "source": [
        "s2 = 'this is an, another sentence, a longer one.'\n",
        "words2 = s2.split(\",\")\n",
        "print(words2)"
      ],
      "metadata": {
        "colab": {
          "base_uri": "https://localhost:8080/"
        },
        "id": "7jN5puMFjn3i",
        "outputId": "62b2b408-03cb-4fbb-af22-062f8db37e58"
      },
      "execution_count": 27,
      "outputs": [
        {
          "output_type": "stream",
          "name": "stdout",
          "text": [
            "['this is an', ' another sentence', ' a longer one.']\n"
          ]
        }
      ]
    },
    {
      "cell_type": "code",
      "source": [
        "s2 = 'this is an, another sentence, a longer one.'\n",
        "words2 = s2.split(\"is\")\n",
        "print(words2)"
      ],
      "metadata": {
        "colab": {
          "base_uri": "https://localhost:8080/"
        },
        "id": "IKqI3g8KkQgj",
        "outputId": "66a30381-b226-4a7f-d23a-221d3141bb93"
      },
      "execution_count": 28,
      "outputs": [
        {
          "output_type": "stream",
          "name": "stdout",
          "text": [
            "['th', ' ', ' an, another sentence, a longer one.']\n"
          ]
        }
      ]
    },
    {
      "cell_type": "code",
      "source": [
        "s1 = 'apple'\n",
        "new_s1 = s1.upper()\n",
        "print(s1)\n",
        "print(new_s1)"
      ],
      "metadata": {
        "colab": {
          "base_uri": "https://localhost:8080/"
        },
        "id": "yBigyQNFk7M7",
        "outputId": "9aef9e88-3bd8-442b-8cf7-267d0ee3a28a"
      },
      "execution_count": 30,
      "outputs": [
        {
          "output_type": "stream",
          "name": "stdout",
          "text": [
            "apple\n",
            "APPLE\n"
          ]
        }
      ]
    },
    {
      "cell_type": "code",
      "source": [
        "x = \"hello\"\n",
        "for characters in x:\n",
        "  print(characters, )"
      ],
      "metadata": {
        "colab": {
          "base_uri": "https://localhost:8080/"
        },
        "id": "nG-P6AUalW0q",
        "outputId": "76bd0c73-9347-455b-b2a7-9d9a7a53c542"
      },
      "execution_count": 31,
      "outputs": [
        {
          "output_type": "stream",
          "name": "stdout",
          "text": [
            "h\n",
            "e\n",
            "l\n",
            "l\n",
            "o\n"
          ]
        }
      ]
    },
    {
      "cell_type": "code",
      "source": [
        "x = \"hello\"\n",
        "for characters in x:\n",
        "  print(characters, end=\" \")"
      ],
      "metadata": {
        "colab": {
          "base_uri": "https://localhost:8080/"
        },
        "id": "Xkgdb16ElnEi",
        "outputId": "c5763771-65cd-4799-912f-403a00cc5ebb"
      },
      "execution_count": 33,
      "outputs": [
        {
          "output_type": "stream",
          "name": "stdout",
          "text": [
            "h e l l o "
          ]
        }
      ]
    }
  ]
}